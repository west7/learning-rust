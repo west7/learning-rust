{
 "cells": [
  {
   "cell_type": "markdown",
   "metadata": {},
   "source": [
    "## Configuração de Ambiente para o Rust no Jupyter Notebook"
   ]
  },
  {
   "cell_type": "code",
   "execution_count": 2,
   "metadata": {
    "vscode": {
     "languageId": "rust"
    }
   },
   "outputs": [
    {
     "name": "stdout",
     "output_type": "stream",
     "text": [
      "Hello, Rust in Jupyter Notebook!\n"
     ]
    }
   ],
   "source": [
    "fn main() {\n",
    "    println!(\"Hello, Rust in Jupyter Notebook!\");\n",
    "}\n",
    "\n",
    "main();"
   ]
  },
  {
   "cell_type": "code",
   "execution_count": 5,
   "metadata": {
    "vscode": {
     "languageId": "rust"
    }
   },
   "outputs": [
    {
     "name": "stdout",
     "output_type": "stream",
     "text": [
      "Você digitou Hello Guilherme\n"
     ]
    }
   ],
   "source": [
    "\n",
    "fn main() {\n",
    "    let mut entrada: String = String::from(\"Hello Guilherme\"); \n",
    "    \n",
    "    println!(\"Você digitou {entrada}\");\n",
    "}\n",
    "\n",
    "main();"
   ]
  },
  {
   "cell_type": "code",
   "execution_count": 3,
   "metadata": {
    "vscode": {
     "languageId": "rust"
    }
   },
   "outputs": [
    {
     "name": "stdout",
     "output_type": "stream",
     "text": [
      "The x value is: 5 and the y + 2 value is: 12\n"
     ]
    }
   ],
   "source": [
    "let x = 5;\n",
    "let y = 10;\n",
    "\n",
    "println!(\"The x value is: {x} and the y + 2 value is: {}\", y + 2);"
   ]
  }
 ],
 "metadata": {
  "kernelspec": {
   "display_name": "Rust",
   "language": "rust",
   "name": "rust"
  },
  "language_info": {
   "codemirror_mode": "rust",
   "file_extension": ".rs",
   "mimetype": "text/rust",
   "name": "Rust",
   "pygment_lexer": "rust",
   "version": ""
  }
 },
 "nbformat": 4,
 "nbformat_minor": 2
}
