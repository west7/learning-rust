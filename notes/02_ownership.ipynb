{
 "cells": [
  {
   "cell_type": "code",
   "execution_count": null,
   "metadata": {},
   "outputs": [],
   "source": []
  },
  {
   "cell_type": "markdown",
   "metadata": {},
   "source": [
    "# Ownership\n",
    "\n",
    "Ownership é basicamente o conceito mais importante do rust. É a maneira pela qual o rust implementa a segurança de memória sem a necessidade de um *garbage collector* e sem vulnerabilidades como em linguagens onde o programador é responsável pela alocação de memória como C e C++.\n",
    "\n",
    "## Mas o que é o Ownership?\n",
    "\n",
    "Ownership é um conjunto de regras que definem como o programa irá usar a memória do computador. O compilador confere se todas as regras são satisfeitas, caso contrário o programa não compila! Para entender as regras do ownership, antes, devemos ver um pouco sobre as estruturas da memória que o programa irá usar durante o tempo de execução.\n",
    "\n",
    "# Stack e Heap\n",
    "\n",
    "A stack e a heap são duas estruturas da memória, disponíveis para o programa durante o runtime. Na stack os itens são guardados na ordem que chegam e removidos na ordem contrária (LIFO). A heap já uma estrutura mais desorganizada, quando algo irá ser colocado na heap, é solicitado um determinado tamanho para aquele dado. O alocador de memória irá então buscar algum espaço que comporte o dado e então retornar um ponteiro para aquela posição. Como o ponteiro é algo de tamanho fixo, ele pode ser guardado na stack. Dessa forma, podemos ver que: Guardar e acessar dados na stack é bem mais rápido que na heap. Quando o programa chama uma função, os argumentos e as variáveis locais da função são colocados na stack (possivelmente, incluindo ponteiros para a heap), assim que a função termina, esses dados são removidos da stack.\n",
    "\n",
    "# Regras do Ownership\n",
    "\n",
    "1. Cada valor têm um **\"dono\"**.\n",
    "2. Só pode haver um **único** \"dono\" **por vez**.\n",
    "3. Uma vez que o \"dono\" **sair de escopo**, o **valor será droppado**."
   ]
  }
 ],
 "metadata": {
  "kernelspec": {
   "display_name": "Rust",
   "language": "rust",
   "name": "rust"
  },
  "language_info": {
   "name": "rust"
  }
 },
 "nbformat": 4,
 "nbformat_minor": 2
}
