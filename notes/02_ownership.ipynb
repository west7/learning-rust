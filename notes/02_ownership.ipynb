{
 "cells": [
  {
   "cell_type": "markdown",
   "metadata": {},
   "source": [
    "# Ownership\n",
    "\n",
    "Ownership é basicamente o conceito mais importante do rust. É a maneira pela qual o rust implementa a segurança de memória sem a necessidade de um *garbage collector* e sem vulnerabilidades como em linguagens onde o programador é responsável pela alocação de memória como C e C++.\n",
    "\n",
    "## Mas o que é o Ownership?\n",
    "\n",
    "Ownership é um conjunto de regras que definem como o programa irá usar a memória do computador. O compilador confere se todas as regras são satisfeitas, caso contrário o programa não compila! Para entender as regras do ownership, antes, devemos ver um pouco sobre as estruturas da memória que o programa irá usar durante o tempo de execução.\n",
    "\n",
    "# Stack e Heap\n",
    "\n",
    "A stack e a heap são duas estruturas da memória, disponíveis para o programa durante o runtime. Na stack os itens são guardados na ordem que chegam e removidos na ordem contrária (LIFO). A heap já uma estrutura mais desorganizada, quando algo irá ser colocado na heap, é solicitado um determinado tamanho para aquele dado. O alocador de memória irá então buscar algum espaço que comporte o dado e então retornar um ponteiro para aquela posição. Como o ponteiro é algo de tamanho fixo, ele pode ser guardado na stack. Dessa forma, podemos ver que: Guardar e acessar dados na stack é bem mais rápido que na heap. Quando o programa chama uma função, os argumentos e as variáveis locais da função são colocados na stack (possivelmente, incluindo ponteiros para a heap), assim que a função termina, esses dados são removidos da stack.\n",
    "\n",
    "# Regras do Ownership\n",
    "\n",
    "1. Cada valor têm um **\"dono\"**.\n",
    "2. Só pode haver um **único** \"dono\" **por vez**.\n",
    "3. Uma vez que o \"dono\" **sair de escopo**, o **valor será droppado**.\n",
    "\n",
    "## Move Vs Copy\n",
    "\n",
    "Em resumo, os tipos de dados em rust podem implementar duas *traits* diferentes: **Copy e Drop**. Todos os tipos escalares, arrays e tuplas (cujos elementos também implementem a trait Copy), implementam a trait **Copy**. Isso significa que esses dados são *Stack-only data*, quando alguma variável recebe o seu valor ele é simplesmente copiado na stack e vida que segue. Por isso algo assim funcionaria:\n",
    "\n",
    "```rust\n",
    "    let x = 42;\n",
    "    let y = x; \n",
    "\n",
    "    println!(\"{x}, {y}\");\n",
    "```\n",
    "\n",
    "Já os tipos complexos, como Strings e Vetores por exemplo, implementam outra trait: **Drop**. E são *Heap-only data*, por isso, quando algo parecido é feito, a propriedade do valor é movida, acontece o **Move**, do valor, e o valor original não pode mais ser acessado:\n",
    "\n",
    "```rust\n",
    "    let x = vec![42];\n",
    "    let y = x;\n",
    "\n",
    "    println!(\"{:?}, {:?}\", x, y); // error: move occurs because `x` has type `Vec<i32>`, which does not implement the `Copy` trait\n",
    "```\n",
    "\n",
    "\n",
    "# Escopo da variável\n",
    "\n",
    "Como exemplo da 3ª regra de Ownership, note que:"
   ]
  },
  {
   "cell_type": "code",
   "execution_count": null,
   "metadata": {},
   "outputs": [],
   "source": [
    "let x = vec![1];\n",
    "let y = x;\n",
    "\n",
    "println!(\"{:?}, {:?}\", x, y);"
   ]
  },
  {
   "cell_type": "code",
   "execution_count": null,
   "metadata": {},
   "outputs": [],
   "source": [
    "{\n",
    "    let s: &str = \"Hello, World!\";\n",
    "    println!(\"{}\", s);\n",
    "}\n",
    "// println!(\"{}\", s); // error: cannot find value `s` in this scope"
   ]
  },
  {
   "cell_type": "markdown",
   "metadata": {},
   "source": [
    "No código acima, a variável `s` é válida, enquanto o escopo dela existe, após o fim deste escopo (representado pelas `{}`) o rust automaticamente chama a função `drop()`, que irá remover `s` da stack. O tipo da variável é uma **string slice** (`&str`), que é imutável e de tamanho fixo, diferente do tipo `String`. Por isso, ele pode ser guardado na stack e facilmente copiado. Isso faz com que o código abaixo seja possível."
   ]
  },
  {
   "cell_type": "code",
   "execution_count": null,
   "metadata": {},
   "outputs": [],
   "source": [
    "let s1 = \"Hello\";\n",
    "let s2 = nome;\n",
    "println!(\"S1: {s1}, S2: {s2}\");"
   ]
  },
  {
   "cell_type": "markdown",
   "metadata": {},
   "source": [
    "No entanto, quando for necessário usar o tipo `String`, deve ser chamada a função `from()` do tipo `String`. Como este tipo é mutável e aumentável, ao chamar esta função o alocador de memória irá separar um espaço na heap para a String. E o que será guardado na stack são três valores: Um ponteiro para a String na heap, seu tamanho e sua capacidade. Algo parecido com a ilustração abaixo:\n",
    "\n",
    "<center>\n",
    "\n",
    "```mermaid\n",
    "    graph LR;\n",
    "        subgraph \"Stack\";\n",
    "            A[\"ptr da s1\"]\n",
    "        end \n",
    "\n",
    "        subgraph \"Heap\";\n",
    "            D[\"Hello\"]\n",
    "        end\n",
    "\n",
    "        A --> D;\n",
    "```\n",
    "\n",
    "</center>\n",
    "\n",
    "Por isso ao tentar fazer algo como:"
   ]
  },
  {
   "cell_type": "code",
   "execution_count": null,
   "metadata": {},
   "outputs": [],
   "source": [
    "let s1 = String::from(\"Hello\");\n",
    "let s2 = s1;\n",
    "println!(\"{s1}, world!\"); // error: value borrowed here after move"
   ]
  },
  {
   "cell_type": "markdown",
   "metadata": {},
   "source": [
    "Não será possível, o compilador não deixará. Fazer isso seria o equivalente a ter dois ponteiros na stack para o mesmo endereço da heap. Isso resulta em um erro já conhecido e bastante comum, o *double* *free* *error*.\n",
    "\n",
    "<center>\n",
    "\n",
    "```mermaid\n",
    "    graph LR;\n",
    "        subgraph \"Stack\";\n",
    "            A[\"ptr da s1\"];\n",
    "\n",
    "            A1[\"ptr da s2\"];    \n",
    "        end \n",
    "\n",
    "        subgraph \"Heap\";\n",
    "            D[\"Hello\"]\n",
    "        end\n",
    "\n",
    "        A --> D;\n",
    "        A1 --> D;\n",
    "```\n",
    "\n",
    "</center>\n",
    "\n",
    "Ao invés disso, se é desejado explicitamente copiar os dados de `s1`, pode ser usado o método `clone()`, que irá resultar em algo do tipo, onde o valor da heap também será copiado:\n"
   ]
  },
  {
   "cell_type": "markdown",
   "metadata": {},
   "source": [
    "<center>\n",
    "\n",
    "```mermaid\n",
    "    graph LR;\n",
    "    subgraph Stack\n",
    "        A[\"ptr da s1\"]\n",
    "        A1[\"ptr da s2\"]\n",
    "    end\n",
    "\n",
    "    subgraph Heap\n",
    "        D[\"Hello\"]\n",
    "        D1[\"Hello\"]\n",
    "    end\n",
    "\n",
    "    A --> D\n",
    "    A1 --> D1\n",
    "```\n",
    "\n",
    "</center>"
   ]
  },
  {
   "cell_type": "code",
   "execution_count": null,
   "metadata": {},
   "outputs": [],
   "source": [
    "let s1 = String::from(\"Hello\");\n",
    "let s2 = s1.clone();\n",
    "println!(\"{s1}, world!\"); // ok"
   ]
  },
  {
   "cell_type": "code",
   "execution_count": null,
   "metadata": {},
   "outputs": [],
   "source": [
    "fn greeting(s: String){\n",
    "    println!(\"Hello, {}!\", s);\n",
    "}\n",
    "\n",
    "fn main() {\n",
    "    let s = String::from(\"Guilherme\");\n",
    "    greeting(s);\n",
    "\n",
    "    println!(\"{}\", s); // error: value borrowed here after move\n",
    "}"
   ]
  },
  {
   "cell_type": "markdown",
   "metadata": {},
   "source": [
    "Ao ler a mensagem de erro, entende-se que a posse da string `s` foi transferida para `greeting()`, por isso, quando o escopo da função termina, o valor de `s` é droppado, e não pode ser acessado de novo. Uma maneira de resolver isso seria retornar o valor de `s` para a variável novamente, dessa forma a posse seria transferida antes que o escopo terminasse:"
   ]
  },
  {
   "cell_type": "code",
   "execution_count": null,
   "metadata": {},
   "outputs": [],
   "source": [
    "fn greeting(s: String) -> String{\n",
    "    println!(\"Hello, {}!\", s);\n",
    "    s\n",
    "}\n",
    "\n",
    "fn main() {\n",
    "    let mut s = String::from(\"Guilherme\");\n",
    "    s = greeting(s);\n",
    "\n",
    "    println!(\"{}\", s); \n",
    "}\n",
    "main();"
   ]
  },
  {
   "cell_type": "markdown",
   "metadata": {},
   "source": [
    "No entanto, é um tanto quanto inconveniente ter que retornar um valor toda vez que você deseja usá-lo novamente. Como fazer isso sem retornar o valor novamente?"
   ]
  },
  {
   "cell_type": "markdown",
   "metadata": {},
   "source": [
    "# Borrowing e Referências\n",
    "\n",
    "Devido a essa mecânica de \"donos\", para que seja possível passar variáveis como argumentos, ao invés de mover a posse de um dado para outro dono, é possível simplesmente **\"emprestar\"** (borrow) um valor, passando uma **referência** ao valor, ao invés do valor de fato. Uma referência pode ser entendida como um ponteiro, porém ao contrário dos ponteiros convencionais, é **garantido** que uma referência sempre apontará para um valor válido. Em rust, não existe o conceito de `null`, ao invés disso a ausência de valores é tratada de outra maneira que veremos posteriormente. Uma referência é passada usando o operador `&`. A função anterior ficaria da seguinte forma:"
   ]
  },
  {
   "cell_type": "code",
   "execution_count": null,
   "metadata": {},
   "outputs": [],
   "source": [
    "fn greeting(s: &String) {\n",
    "    println!(\"Hello, {}!\", s);\n",
    "}\n",
    "\n",
    "fn main() {\n",
    "    let mut s = String::from(\"Guilherme\");\n",
    "    greeting(&s);\n",
    "\n",
    "    println!(\"{}\", s); \n",
    "}\n",
    "main();"
   ]
  },
  {
   "cell_type": "markdown",
   "metadata": {},
   "source": [
    "Dessa forma, a função `greeting()` não ganha a posse do valor de `s`, e assim, `s` pode ser acessado novamente depois. Uma referência pode ser entendida, ao menos é a forma mais fácil que consegui explicar, como um **ponteiro para outro ponteiro**. Na stack seria algo na linha de:\n",
    "\n",
    "<center>\n",
    "\n",
    "```mermaid\n",
    "    graph LR;\n",
    "    subgraph Stack\n",
    "        A[\"ptr de s\"]\n",
    "        A1[\"ref para s\"]\n",
    "    end\n",
    "\n",
    "    subgraph Heap\n",
    "        D[\"Hello\"]\n",
    "    end\n",
    "\n",
    "    A1 --> A\n",
    "    A --> D\n",
    "```\n",
    "\n",
    "</center>"
   ]
  },
  {
   "cell_type": "markdown",
   "metadata": {},
   "source": [
    "> Nota: O operador contrário de `&` é o `*` (deferência)."
   ]
  },
  {
   "cell_type": "markdown",
   "metadata": {},
   "source": [
    "# Referências mutáveis\n",
    "\n",
    "Por padrão, uma referência é imutável, ou seja, o valor para o qual ela aponta não pode ser modificado. Como mostra o código abaixo:"
   ]
  },
  {
   "cell_type": "code",
   "execution_count": null,
   "metadata": {},
   "outputs": [],
   "source": [
    "fn add_world(s: &String) {\n",
    "    s.push_str(\", World!\");\n",
    "}\n",
    "\n",
    "fn main() {\n",
    "    let mut s = String::from(\"Hello\");\n",
    "\n",
    "    add_world(&s); // error: cannot borrow `s` as mutable, as it is not declared as mutable\n",
    "}\n",
    "\n",
    "main();"
   ]
  },
  {
   "cell_type": "markdown",
   "metadata": {},
   "source": [
    "Isso pode ser corrigido simplesmente passando uma referência mutável para a função."
   ]
  },
  {
   "cell_type": "code",
   "execution_count": null,
   "metadata": {},
   "outputs": [],
   "source": [
    "fn add_world(s: &mut String) {\n",
    "    s.push_str(\", World!\");\n",
    "}\n",
    "\n",
    "fn main() {\n",
    "    let mut s = String::from(\"Hello\");\n",
    "\n",
    "    add_world(&mut s); \n",
    "\n",
    "    println!(\"{}\", s);\n",
    "}\n",
    "\n",
    "main();"
   ]
  },
  {
   "cell_type": "markdown",
   "metadata": {},
   "source": [
    "> #### Referências mutáveis possuem uma única grande restrição, se há uma referência mutável, ela deve ser a única para um objeto por escopo."
   ]
  },
  {
   "cell_type": "code",
   "execution_count": null,
   "metadata": {},
   "outputs": [],
   "source": [
    "let mut s = String::from(\"Hello\");\n",
    "\n",
    "let r1 = &mut s;\n",
    "let r2 = &mut s;\n",
    "\n",
    "println!(\"{} {}\", r1, r2); // error: cannot borrow `s` as mutable more than once at a time\n"
   ]
  },
  {
   "cell_type": "code",
   "execution_count": null,
   "metadata": {},
   "outputs": [],
   "source": [
    "\n",
    "let mut s = String::from(\"Hello\");\n",
    "\n",
    "{\n",
    "    let r1 = &mut s; // ok\n",
    "}\n",
    "\n",
    "let r2 = &mut s;"
   ]
  },
  {
   "cell_type": "markdown",
   "metadata": {},
   "source": [
    "Contudo, não há restrições para referências imutáveis, elas podem ser ilimitadas. Apenas se houver alguma **mutável**, que essa restrição é válida."
   ]
  },
  {
   "cell_type": "code",
   "execution_count": null,
   "metadata": {},
   "outputs": [],
   "source": [
    "fn main() {\n",
    "    let mut s = String::from(\"Hello\");\n",
    "\n",
    "    let r1 = &s;\n",
    "    let r2 = &s;\n",
    "    println!(\"{r1} and {r2}\");  // ok\n",
    "\n",
    "    let r3 = &mut s;\n",
    "    println!(\"{r3}\"); // ok, the both r1 and r2 were already dropped\n",
    "}\n",
    "\n",
    "main();"
   ]
  },
  {
   "cell_type": "markdown",
   "metadata": {},
   "source": [
    "## Regras das referências\n",
    "\n",
    "1. Por escopo, deve haver ou uma única referência mutável ou qualquer número de imutáveis.\n",
    "2. Referências sempre devem ser válidas."
   ]
  },
  {
   "cell_type": "markdown",
   "metadata": {},
   "source": [
    "# Slices\n",
    "\n",
    "Slices são um tipo especial de referências, são referências para uma parte contígua de uma coleção, não necessariamente a coleção inteira. Elas são úteis para permitir o acesso seguro e eficiente a subseções de dados, sem a necessidade de copiar esses dados. "
   ]
  },
  {
   "cell_type": "code",
   "execution_count": null,
   "metadata": {},
   "outputs": [],
   "source": [
    "fn main() {\n",
    "    let arr = [1, 2, 3, 4, 5];\n",
    "    \n",
    "    // Slice imutável\n",
    "    let slice = &arr[1..4]; // [2, 3, 4]\n",
    "    println!(\"{:?}\", slice);\n",
    "\n",
    "    // Slice mutável\n",
    "    let mut vec = vec![10, 20, 30, 40, 50];\n",
    "    let slice_mut = &mut vec[2..4]; // [30, 40]\n",
    "    slice_mut[0] = 35;  // Modifica o primeiro elemento da slice mutável\n",
    "    println!(\"{:?}\", slice_mut); // [35, 40]\n",
    "}\n",
    "\n",
    "main();"
   ]
  },
  {
   "cell_type": "markdown",
   "metadata": {},
   "source": [
    "String literals são tratadas como **string slices** `&str`."
   ]
  }
 ],
 "metadata": {
  "kernelspec": {
   "display_name": "Rust",
   "language": "rust",
   "name": "rust"
  },
  "language_info": {
   "codemirror_mode": "rust",
   "file_extension": ".rs",
   "mimetype": "text/rust",
   "name": "rust",
   "pygment_lexer": "rust",
   "version": ""
  }
 },
 "nbformat": 4,
 "nbformat_minor": 2
}
