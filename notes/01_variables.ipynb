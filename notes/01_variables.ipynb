{
 "cells": [
  {
   "cell_type": "markdown",
   "metadata": {},
   "source": [
    "# Variáveis e mutabilidade"
   ]
  },
  {
   "cell_type": "markdown",
   "metadata": {},
   "source": [
    "Por padrão, as variáveis em Rust são imutáveis, isso significa que, uma vez atribuído um valor a ela, ele não poderá ser alterado. Isso é uma forma que o Rust têm de fazer você aproveitar das vantagens de segurança e concorrência que o Rust oferece. No entanto, uma variável ainda pode ser declarada como mutável.\n",
    "\n",
    "Uma variável pode ser declarada usando a palavra `let`. Também pode ser adicionada a palavra `mut` para declara-la como mutável.\n",
    "\n",
    "```rust\n",
    "    let x = 5;\n",
    "    x = 6; //Erro de compilação\n",
    "\n",
    "    let mut y = 5;\n",
    "    y = 6; //Ok\n",
    "```\n"
   ]
  },
  {
   "cell_type": "markdown",
   "metadata": {},
   "source": [
    "# Constantes\n",
    "\n",
    "Constantes, assim como as variáveis, são, por padrão, imutáveis. Contudo, ao contrário das variáveis, elas não podem ser declaradas como mutáveis com a palavra `mut`. \n",
    "\n",
    "Constantes são declaradas usando a palavra `const` ao invés de `let`. Além disso, elas podem ser declaradas em qualquer escopo, inclusive no global e para declara-las o tipo deve ser necessariamente especificado.\n",
    "\n",
    "O rust é uma linguagem de tipagem forte e estática, assim como o java. Mas, o rust também possui inferência de tipo, portanto ao definir o valor de uma variável, o tipo estará implicitamente sendo definido. Como no exemplo acima, não foi preciso declarar `x` como sendo um inteiro (`i32`), porque isso já esta implicito no valor atribuído `5`. Porém o mesmo não é válido para as constantes, o tipo deve ser obrigatoriamente explicitado ao se declarar uma:\n",
    "\n",
    "```rust\n",
    "    const PI: f64 =  3.14159;\n",
    "```"
   ]
  },
  {
   "cell_type": "markdown",
   "metadata": {},
   "source": [
    "# Shadowing\n",
    "\n",
    "Uma mecânica diferente do rust é a mecânica de shadows. Que nada mais é do que a possibilidade de redeclarar uma variável com o mesmo nome, inclusive podendo ser feito dentro de diferentes escopos.\n",
    "\n",
    "Mas para que isso é útil? Vamos supor que em uma determinada função, somente me interessa o tamanho de uma string `s`:\n",
    "\n",
    "```rust\n",
    "    fn string_size(s: &str) -> usize {\n",
    "        let s = s.len();\n",
    "        s\n",
    "    }\n",
    "```\n",
    "\n",
    "No exemplo acima, a função recebe uma variável `s` de tipo `&str` (string slice), redeclara a variável como sendo do tipo `usize` e retorna o tamanho da string. "
   ]
  },
  {
   "cell_type": "markdown",
   "metadata": {},
   "source": [
    "# Tipos de dados\n",
    "\n",
    "Como tipo anteriormente, o rust é uma linguagem de tipagem forte e estática, isso quer dizer que os tipos **têm** de ser conhecidos durante o tempo de compilação. Na maioria dos casos o compilador consegue inferir qual tipo de dado queremos usar a partir do valor atribuído, porém, quando não, o tipo deve ser informado.\n",
    "\n",
    "```rust\n",
    "    let x: i32 = 42; // Um tipo é definido dessa forma: \"nome_da_variavel: <tipo>\"\n",
    "```\n",
    "\n",
    "Existem, basicamente, dois subtipos de dados em rust: escalares e compostos.\n",
    "\n",
    "## Tipos escalares\n",
    "\n",
    "Tipos escalares são tipos de valores únicos que podem ser:\n",
    "\n",
    "-  Inteiros (i32, u32, i64, u64, etc.)\n",
    "-  Números de ponto flutuante(f32, f64, etc.) \n",
    "-  Caracteres(char) \n",
    "-  Booleanos(bool) \n",
    "  \n",
    "São tipos básicos e já conhecidos.\n",
    "\n",
    "## Tipos compostos\n",
    "\n",
    "### Tuplas\n",
    "\n",
    "Tuplas são uma forma de agrupar diferentes tipos em um único tipo composto. Elas são de tamanho fixo, não pode crescer ou diminuir, para isso devem ser usados vetores, outro tipo composto fornecido pelo biblioteca padrão. Os tipos dentro de uma tupla podem ser diversos, inclusive outra tupla. Um tupla pode ser *desestruturada* e seus valores atribuídos a outras variáveis. Ou também, os membros podem ser acessados diretamente pelo index, através de um (`.`) após o nome da variável.\n",
    "\n",
    "```rust\n",
    "    let tup: (&str, (i32, u8), f64) = (\"Rust\", (32, 18), 64.0);\n",
    "    let (x, y, z) = tup; // desestruturação\n",
    "    let y0 = y.0; // acesso através do index\n",
    "    let y1 = y.1; // acesso através do index\n",
    "```\n",
    "\n",
    "Uma tupla sem nenhum valor recebe um nome especial: *unit*. E pode ser escrito como `()`, e representa um valor vazio.\n",
    "\n",
    "### Arrays\n",
    "\n",
    "Outro tipo são os arrays. Ao contrário da tupla, todos os elementos de um array devem ser de mesmo tipo e, assim como na tupla, os arrays são de tamanho fixo. Arrays devem ser usados quando se quer garantir que os dados sejam alocados na stack e não na heap ou quando se quer garantir que o número de elementos não irá mudar. Para acessar os elementos de um array é passado um `index` da mesma maneira que na maioria das linguagens, para acessar o primeiro item: `a[0]`.\n",
    "\n",
    "```rust\n",
    "    let arr: [i32; 5] = [1, 2, 3, 4, 5];\n",
    "    let arr = [0; 10];  // Será inicializado um array de tamanho 10 preenchido unicamente com 0's.\n",
    "```\n",
    "\n",
    "> Nota: Os elementos de um array ou uma tupla também pode ser alterados, se os mesmos forem declarados com a palavra `mut`.\n"
   ]
  },
  {
   "cell_type": "markdown",
   "metadata": {},
   "source": [
    "# Functions\n",
    "\n",
    "Funções são estruturas predominantes em rust, a função mais importante do rust é a função `main`, que é o *entrypoint* de qualquer programa rust. São definidas usando a palavra `fn` e podem ou não ter retorno.\n",
    "\n",
    "```rust\n",
    "\n",
    "    fn sum(x:i32, y:i32) -> i32 /*Retorno da função*/ {\n",
    "        x + y\n",
    "    }\n",
    "```\n",
    "\n",
    "> Nota: O retorno de uma função é sinônimo da última expressão dentro do escopo da função. A palavra `return` pode ser usada para retornar de uma função de maneira precoce, mas geralmente fica implícita como a última expressão de uma função. "
   ]
  },
  {
   "cell_type": "markdown",
   "metadata": {
    "vscode": {
     "languageId": "rust"
    }
   },
   "source": [
    "# Expressões e Declarações\n",
    "\n",
    "Em rust, **declarações** são uma estrutura que definem algum ação, contudo não retornam nenhum valor, já as **expressões** resultam e retornam algum valor.\n",
    "\n",
    "Declaração:\n",
    "\n",
    "```rust\n",
    "    let x = 6;\n",
    "```\n",
    "\n",
    "Expressão:\n",
    "\n",
    "```rust\n",
    "    1 + 1\n",
    "```"
   ]
  },
  {
   "cell_type": "markdown",
   "metadata": {},
   "source": [
    "# Controle de fluxo\n",
    "\n",
    "## if \n",
    "\n",
    "O if em rust é muito semelhante a outras linguagens, tendo o seguinte formato:\n",
    "\n",
    "```rust\n",
    "    if condition {\n",
    "        // code\n",
    "    }   \n",
    "```\n",
    "\n",
    "A condição deve ser um bool obrigatoriamente, algo diferente de outras linguagens como C por exemplo:\n",
    "\n",
    "```rust\n",
    "    let x = 3;\n",
    "\n",
    "    // erro\n",
    "    if x { \n",
    "    }\n",
    "\n",
    "    // Para fazer algo similar ao C, onde 0 é falso:\n",
    "    if x != 0 {\n",
    "    }\n",
    "```\n",
    "## else e else if\n",
    "\n",
    "Essas estruturas são idênticas a outras linguagens.\n",
    "\n",
    "```rust\n",
    "    if condition {\n",
    "\n",
    "    } else if {\n",
    "\n",
    "    } else {\n",
    "\n",
    "    }\n",
    "```\n",
    "\n",
    "## loop\n",
    "\n",
    "A estrutura `loop` é uma estrutura de repetição que roda indefinidamente até ser interrompida, funciona como um `while true`:\n",
    "\n",
    "```rust\n",
    "    let mut count = 0;\n",
    "    loop {\n",
    "        if count == 5 { \n",
    "            break;\n",
    "        }\n",
    "        count += 1;\n",
    "    }\n",
    "```\n",
    "Também pode ser usada para retornar valores:\n"
   ]
  },
  {
   "cell_type": "code",
   "execution_count": 7,
   "metadata": {},
   "outputs": [
    {
     "name": "stdout",
     "output_type": "stream",
     "text": [
      "10\n"
     ]
    }
   ],
   "source": [
    "fn main() {\n",
    "    let mut count = 0;\n",
    "    \n",
    "    let result = loop {\n",
    "        if count == 5 { \n",
    "            break count * 2;\n",
    "        }\n",
    "        count += 1;\n",
    "    };\n",
    "\n",
    "    println!(\"{result}\");\n",
    "}\n",
    "main();"
   ]
  },
  {
   "cell_type": "markdown",
   "metadata": {
    "vscode": {
     "languageId": "rust"
    }
   },
   "source": [
    "## While e For\n",
    "\n",
    "As estruturas de while e for são basicamente idênticas a outras linguagens."
   ]
  },
  {
   "cell_type": "code",
   "execution_count": 5,
   "metadata": {},
   "outputs": [
    {
     "name": "stdout",
     "output_type": "stream",
     "text": [
      "3!\n",
      "2!\n",
      "1!\n",
      "LIFTOFF!!!\n"
     ]
    }
   ],
   "source": [
    "fn main() {\n",
    "    for number in (1..4).rev() {\n",
    "        println!(\"{number}!\");\n",
    "    }\n",
    "    println!(\"LIFTOFF!!!\");\n",
    "}\n",
    "\n",
    "main();"
   ]
  }
 ],
 "metadata": {
  "kernelspec": {
   "display_name": "Rust",
   "language": "rust",
   "name": "rust"
  },
  "language_info": {
   "codemirror_mode": "rust",
   "file_extension": ".rs",
   "mimetype": "text/rust",
   "name": "rust",
   "pygment_lexer": "rust",
   "version": ""
  }
 },
 "nbformat": 4,
 "nbformat_minor": 2
}
