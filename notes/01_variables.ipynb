{
 "cells": [
  {
   "cell_type": "markdown",
   "metadata": {},
   "source": [
    "# Variáveis e mutabilidade"
   ]
  },
  {
   "cell_type": "markdown",
   "metadata": {},
   "source": [
    "Por padrão, as variáveis em Rust são imutáveis, isso significa que, uma vez atribuído um valor a ela, ele não poderá ser alterado. Isso é uma forma que o Rust têm de fazer você aproveitar das vantagens de segurança e concorrência que o Rust oferece. No entanto, uma variável ainda pode ser declarada como mutável.\n",
    "\n",
    "Uma variável pode ser declarada usando a palavra `let`. Também pode ser adicionada a palavra `mut` para declara-la como mutável.\n",
    "\n",
    "```rust\n",
    "let x = 5;\n",
    "x = 6; //Erro de compilação\n",
    "\n",
    "let mut y = 5;\n",
    "y = 6; //Ok\n",
    "```\n"
   ]
  },
  {
   "cell_type": "markdown",
   "metadata": {},
   "source": [
    "# Constantes\n",
    "\n",
    "Constantes, assim como as variáveis, são, por padrão, imutáveis. Contudo, ao contrário das variáveis, elas não podem ser declaradas como mutáveis com a palavra `mut`. \n",
    "\n",
    "Constantes são declaradas usando a palavra `const` ao invés de `let`. Além disso, elas podem ser declaradas em qualquer escopo, inclusive no global e para declara-las o tipo deve ser necessariamente especificado.\n",
    "\n",
    "O rust é uma linguagem de tipagem forte e estática, assim como o java. Mas, o rust também possui inferência de tipo, portanto ao definir o valor de uma variável, o tipo estará implicitamente sendo definido. Como no exemplo acima, não foi preciso declarar `x` como sendo um inteiro (`i32`), porque isso já esta implicito no valor atribuído `5`."
   ]
  },
  {
   "cell_type": "markdown",
   "metadata": {},
   "source": [
    "# Shadowing\n",
    "\n",
    "Uma mecânica diferente do rust é a mecânica de shadows. Que nada mais é do que a possibilidade de redeclarar uma variável com o mesmo nome, inclusive podendo ser feito dentro de diferentes escopos.\n",
    "\n",
    "Mas para que isso é útil? Vamos supor que em uma determinada função, somente me interessa o tamanho de uma string `s`:\n",
    "\n",
    "```rust\n",
    "fn string_size(s: &str) -> usize {\n",
    "    let s = s.len();\n",
    "    s\n",
    "}\n",
    "```\n",
    "\n",
    "No exemplo acima, a função recebe uma variável `s` de tipo `&str` (string slice), redeclara a variável como sendo do tipo `usize` e retorna o tamanho da string. "
   ]
  },
  {
   "cell_type": "markdown",
   "metadata": {},
   "source": [
    "# Tipos de dados\n",
    "\n",
    "Como tipo anteriormente, o rust é uma linguagem de tipagem forte e estática, isso quer dizer que os tipos **têm** de ser conhecidos durante o tempo de compilação. Na maioria dos casos o compilador consegue inferir qual tipo de dado queremos usar a partir do valor atribuído, porém, quando não, o tipo deve ser informado.\n",
    "\n",
    "```rust\n",
    "let x: i32 = 5; // Um tipo é definido dessa forma: \"nome_da_variavel: <tipo>\"\n",
    "```\n",
    "\n",
    "Existem, basicamente, dois subtipos de dados em rust: escalares e compostos.\n",
    "\n",
    "## Tipos escalares\n",
    "\n",
    "Tipos escalares são tipos de valores únicos que podem ser: inteiros(i8, i16, i32, etc.), números de ponto flutuante(f32, f64, etc.), caracteres(char) e booleanos(bool). São tipos básicos e já conhecidos.\n",
    "\n",
    "## Tipos compostos\n",
    "\n",
    "### Tuplas\n",
    "\n",
    "Tuplas são uma forma de agrupar diferentes tipos em um único tipo composto. Elas são de tamanho fixo, não pode crescer ou diminuir, para isso devem ser usados vetores, outro tipo composto fornecido pelo biblioteca padrão. Os tipos dentro de uma tupla podem ser diversos, inclusive outra tupla. Um tupla pode ser *desestruturada* e seus valores atribuídos a outras variáveis. Ou também, os membros podem ser acessados diretamente pelo index, através de um (`.`) após o nome da variável.\n",
    "\n",
    "```rust\n",
    "let tup: (&str, (i32, u8), f64) = (\"Rust\", (32, 18), 64.0);\n",
    "let (x, y, z) = tup; // desestruturação\n",
    "let y0 = y.0; // acesso através do index\n",
    "let y1 = y.1; // acesso através do index\n",
    "```\n",
    "\n",
    "Uma tupla sem nenhum valor recebe um nome especial: *unit*. E pode ser escrito como `()`, e representa um valor vazio.\n",
    "\n",
    "### Arrays\n",
    "\n",
    "Outro tipo são os arrays. Ao contrário da tupla, todos os elementos de um array devem ser de mesmo tipo e, assim como na tupla, os arrays são de tamanho fixo. Arrays devem ser usados quando se quer garantir que os dados sejam alocados na stack e não na heap ou quando se quer garantir que o número de elementos não irá mudar. Para acessar os elementos de um array é passado um `index` da mesma maneira que na maioria das linguagens, para acessar o primeiro item: `a[0]`.\n",
    "\n",
    "```rust\n",
    "let arr: [i32; 5] = [1, 2, 3, 4, 5];\n",
    "let arr = [0; 10];  // Será inicializado um array de tamanho 10 preenchido unicamente com 0's.\n",
    "```\n",
    "\n",
    "> Notas: Os elementos de um array ou uma tupla também pode ser alterados, se os mesmos forem declarados com a palavra `mut`.\n"
   ]
  }
 ],
 "metadata": {
  "kernelspec": {
   "display_name": "Rust",
   "language": "rust",
   "name": "rust"
  },
  "language_info": {
   "name": "rust"
  }
 },
 "nbformat": 4,
 "nbformat_minor": 2
}
