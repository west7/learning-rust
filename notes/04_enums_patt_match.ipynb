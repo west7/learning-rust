{
 "cells": [
  {
   "cell_type": "markdown",
   "metadata": {
    "vscode": {
     "languageId": "makefile"
    }
   },
   "source": [
    "# Enums \n",
    "\n",
    "Enums são uma forma de dizer que um valor pode ser **um** dentro de um **conjunto** possível de valores. Nesse sentido, vamos pensar em endereços IP. Atualmente, exsitem duas versões usadas como padrões de endereço IP, a versão quatro e a versão seis. Por conta de serem uma quantidade finita de versões, podemos **enumerar** as possibilidades, daí surge o nome `enum`.\n",
    "\n",
    "```rust\n",
    "    enum IpAddrKind {\n",
    "        V4, \n",
    "        V6,\n",
    "    }\n",
    "\n",
    "    let v4 = IpAddrKind::V4;\n",
    "    let v6 = IpAddrKind::V6;\n",
    "\n",
    "    fn route (ip: IpAddrKInd) {}\n",
    "```\n",
    "\n",
    "Ao definir a `enum` `IpAddrKind`, podemos instaciar as duas variantes como mostrado nas variáveis `v4` e `v6`. Além disso, podemos definir uma função, como em `route`, que receberá qualquer uma das possíveis variantes do tipo. Mas, imagine que é desejado guardar um endereço do tipo `String` associado a cada endereço IP. Uma possível solução seria usar `structs`:\n",
    "\n",
    "```rust\n",
    "    enum IpAddrKind {\n",
    "        V4, \n",
    "        V6,\n",
    "    }\n",
    "\n",
    "    struct IpAddrKind {\n",
    "        kind: IpAddrKind,\n",
    "        adress: String,\n",
    "    }\n",
    "```\n",
    "\n",
    "É uma solução válida, porém se torna algo muito verboso, em vez disso, poderiamos resolver o problema usando apenas `enums`. É possível anexar dados a cada uma das variantes da `enum`:\n",
    "\n",
    "```rust\n",
    "    enum IpAddrKind {\n",
    "        V4(String),\n",
    "        V6(String),\n",
    "    }\n",
    "\n",
    "    let home = IpAddrKind::V4(String::from(\"127.0.0.1\"));\n",
    "    let loopback = IpAddrKind::V6(String::from(\"::1\"));\n",
    "\n",
    "```\n",
    "Dessa forma, cada variante teria uma `String` associada. As variantes de uma *enumeration* podem guardar qualquer tipo de dados: `Strings`, `i32`, `structs` e até outras `enum`. Assim como nas `structs`, onde era possível definir métodos usando o `impl`, também é possível fazer o mesmo para as `enums`.\n",
    "\n",
    "```rust\n",
    "    enum Message {\n",
    "        Quit,\n",
    "        Move {x: i32, y: i32},\n",
    "        Write (String),\n",
    "        ChangeColor (i32, i32, i32),\n",
    "    }\n",
    "\n",
    "    impl Message {\n",
    "        fn call(&self) {\n",
    "            //definition\n",
    "        }\n",
    "    }\n",
    "```"
   ]
  },
  {
   "cell_type": "markdown",
   "metadata": {},
   "source": [
    "## The `Option` Enum\n",
    "\n",
    "A `Option` é uma enum definida pela biblioteca padrão. Ela ilustra o cenário padrão onde uma valor pode ser **Algo** ou pode ser **Nada**. Por exemplo, ao buscar um elemento `x` em um hashmap, você pode encontrá-lo, ou seja obter um valor, ou pode não encontrálo, não obter valor algum. Dessa forma, a vantagem de se definir esse conceito como um tipo, permite que o compilador verifique se todos os casos foram tratados devidamente. O rust não tem o conceito de *null*, em linguagens com *null* variáveis podem sempre estar em dois estados: *null* e *not-null*. O problema ocorre quando você lida com uma variável nula como se ela fosse não nula.\n",
    "\n",
    "Contudo, o conceito que o *null* traz de que um valor está ausente ou indiponível por alguma razão ainda é útil. Por temos a implementação de `Option<T>` na std library. Esta `enum` é tão útil que ela e suas variantes: `Some(T)` e `None`, estão incluídas diretamente no prelúdio e podem ser usadas sem a necessidade de explicitar `Option::`. O tipo `T` representa um tipo genérico que, resumidamente, pode assumir qualquer tipo de dado.\n",
    "\n",
    "```rust\n",
    "    let some_num = Some(5);\n",
    "    let some_char = Some('r');\n",
    "    let none_num: Option<i32> = None;\n",
    "```\n",
    "\n",
    "Note que ao definir as duas primeiras variáveis, o rust pode inferir o tipo de cada uma. Porém, na terceira, o compilador não consegue inferir qual o tipo que a variante `Some` irá guardar analisando a variante `None`. Por isso, é necessário anotar o tipo `Option<i32>` de forma explícita. Quando se tem um valor `Some`, pode se afirmar que temos **algum** valor, e ele está contido dentro do `Some`. Quando se tem um valor `None`, de certa forma, ele é similar ao *null*: Não há um valor válido.  \n",
    "\n",
    "Outra coisa importante é que `Option<T>` não o mesmo que `T` (sendo `T` qualquer valor possível). Por isso, o compilador não nos deixa usar um `Option<T>` como se fosse um valor válido. "
   ]
  },
  {
   "cell_type": "code",
   "execution_count": null,
   "metadata": {
    "vscode": {
     "languageId": "rust"
    }
   },
   "outputs": [],
   "source": [
    "let x: i8 = 5;\n",
    "let y: Option<i8> = Some(5);\n",
    "\n",
    "println!(\"x + y = {}\", (x + y)); // no implementation for `i8 + Option<i8>`"
   ]
  },
  {
   "cell_type": "markdown",
   "metadata": {},
   "source": [
    "Em outras palavras, sempre que se desejar usar um valor `Some`, você deve converter o `Option<T>` para `T`. Sempre que você tiver um valor que possa ser nulo, deve se optar explicitamente pelo tipo `Option<T>`, assim o compilador te obrigará a tratar o caso em que o valor é nulo. Assim, ao usar qualquer valor que não seja do tipo `Option<T>`, é seguro assumir que aquele valor **com certeza** não é nulo."
   ]
  },
  {
   "cell_type": "markdown",
   "metadata": {},
   "source": [
    "### The `Option` methods\n",
    "\n",
    "Mas então, como eu consigo extrair um valor `T` de dentro do `Some`? Bom, existem alguns vários métodos da `enum`, alguns dos principais são:\n",
    "\n",
    "\n",
    "\n",
    "| Método                 | Descrição                                                                                    | Retorno        |\n",
    "| ---------------------- | -------------------------------------------------------------------------------------------- | -------------- |\n",
    "| **is_some()**          | Verifica se a variante atual da `Option` é `Some`.                                           | `bool`         |\n",
    "| **is_none()**          | Verifica se a variante atual da `Option` é `None`.                                           | `bool`         |\n",
    "| **unwrap()**           | Extrai o valor contido em `Some(T)`, consumindo o `self`. Pânico caso a `Option` for `None`. | `T`            |\n",
    "| **unwrap_or()**        | Extrai e retorna o valor contido em `Some(T)` ou um valor fornecido.                         | `T`            |\n",
    "| **unwrap_or_else()**   | Similar ao anterior porém computa o valor a partir de uma `closure`.                         | `T`            |\n",
    "| **unwap_or_default()** | Similar ao anterior porém retorna o valor padrão (`Default::default()`) de `T` caso `None`.  | `T`            |\n",
    "| **map()**              | Aplica uma função ao valor contido `Some(T)` retornando `Some(U)` ou `None` caso `None`.     | `Option<U>`    |\n",
    "| **or()**               | Retorna a `Option` original caso `Some` ou uma nova fornecida `Option` caso `None`.          | `Option<T>`    |\n",
    "| **or_else()**          | Similar ao anterior porém computa a `Option` a partir de uma `closure`.                      | `Option<T>`    |\n",
    "| **filter()**           | Retorna `Some` se o valor contido satisfaz um predicado, caso contrário `None`.              | `Option<T>`    |\n",
    "| **ok_or()**            | Retorna `Ok` se `Some` ou um valor fornecido `Err` caso `None`.                              | `Result<T, E>` |\n",
    "| **ok_or_else()**       | Similar ao anterior porém computa o valor `Err` a partir de uma `closure`.                   | `Result<T, E>` |\n",
    "| **and()**              | Retorna `None` se `None`, caso contrário retorna a `Option` fornecida.                       | `Option<U>`    |\n",
    "| **and_then()**         | Retorna `None` se `None`, ou então chama uma função `f` com o valor de `Some` e retorna.     | `Option<U>`    |\n",
    "| **expect()**           | Similar ao `unwrap()` porém com uma mensagem de erro personalizada em caso de pânico.        | `T`            |\n"
   ]
  },
  {
   "cell_type": "code",
   "execution_count": 2,
   "metadata": {
    "vscode": {
     "languageId": "rust"
    }
   },
   "outputs": [
    {
     "name": "stdout",
     "output_type": "stream",
     "text": [
      "x + y = 10\n"
     ]
    }
   ],
   "source": [
    "let x: i8 = 5;\n",
    "let y: Option<i8> = Some(5);\n",
    "\n",
    "println!(\"x + y = {}\", (x + y.unwrap())); // Funciona porque unwrap retorna o valor dentro de Some"
   ]
  },
  {
   "cell_type": "markdown",
   "metadata": {},
   "source": [
    "# Pattern Matching\n",
    "\n",
    "O rust possui uma poderosa ferramenta chamada *pattern matching*. Ela é uma forma de comparar um valor com uma série de padrões e então executar código baseado no padrão que corresponde. O *pattern matching* é feito com a palavra-chave `match`. Nesse contexto, é possível compará-lo a uma máquina de organizar moedas, onde cada moeda cai no primeiro buraco que ela couber.\n",
    "\n",
    "```rust\n",
    "    enum Coin {\n",
    "        Penny,\n",
    "        Nickel,\n",
    "        Dime,\n",
    "        Quarter,\n",
    "    }\n",
    "\n",
    "    fn value_in_cents(coin: Coin) -> u8 {\n",
    "        match coin {\n",
    "            Coin::Penny => 1,\n",
    "            Coin::Nickel => 5,\n",
    "            Coin::Dime => 10,\n",
    "            Coin::Quarter => 25,\n",
    "        }\n",
    "    }\n",
    "```\n",
    "\n",
    "Acima, temos uma função que recebe uma moeda e retorna o valor dela em centavos. O `match` é uma expressão que compara o valor `coin` com cada um dos padrões. Se o padrão `Coin::Penny` corresponder, o valor retornado será `1`, caso contrário, o rust irá verificar o próximo padrão. Se nenhum padrão corresponder, o rust irá retornar um erro.\n",
    "\n",
    "A princípio, pode parecer muito similar a um `if`, porém há uma grande diferença, em `if` a condição deve resultar em um `boolean`, mas no `match` pode ser de qualquer tipo, visto no exemplo, onde o tipo avaliado é `Coin`. Também temos os **match arms** que são compostos por duas partes: Um padrão e um bloco de código, e cada braço é separado por uma vírgula. As duas partes de um braço são separadas pelo operador `=>` (`pattern => code`). O código do braço é uma expressão, e o valor resultante será retornado como valor da expressão `match` inteira."
   ]
  },
  {
   "cell_type": "markdown",
   "metadata": {},
   "source": [
    "## Matching with `Option<T>`\n",
    "\n",
    "Outra forma de extrair o valor de `Some(T)` é usando o `match`. Veja no exemplo a seguir, uma função recebe uma `Option` e, se `Some`, retorna o valor mais 1, caso contrário, retorna `None`.\n"
   ]
  },
  {
   "cell_type": "code",
   "execution_count": 13,
   "metadata": {
    "vscode": {
     "languageId": "rust"
    }
   },
   "outputs": [
    {
     "name": "stdout",
     "output_type": "stream",
     "text": [
      "five = Some(5), six = Some(6), none = None\n",
      "five = 5, six = 6, none = 0\n"
     ]
    }
   ],
   "source": [
    "fn plus_one(x: Option<i32>) -> Option<i32> {\n",
    "    match x {\n",
    "        Some(n) => Some(n + 1),\n",
    "        None => None\n",
    "    }\n",
    "}\n",
    "\n",
    "let five = Some(5);\n",
    "let six = plus_one(five);\n",
    "let none = plus_one(None);\n",
    "\n",
    "println!(\"five = {:?}, six = {:?}, none = {:?}\", five, six, none);\n",
    "println!(\"five = {:?}, six = {:?}, none = {:?}\", five.unwrap_or_default(), six.unwrap_or_default(), none.unwrap_or_default());\n"
   ]
  },
  {
   "cell_type": "markdown",
   "metadata": {},
   "source": [
    "Outra detalhe sobre o `match` é que ele é **exaustivo**, ou seja, todos os casos possíveis devem estar descritos dentro do match, caso contrário o programa não compila.\n",
    "\n",
    "```rust\n",
    "    fn plus_one(x: Option<i32>) -> Option<i32> {\n",
    "        match x {\n",
    "            Some(i) => Some(i + 1), \n",
    "        } \n",
    "    } // erro: não há um caso para None\n",
    "```\n",
    "\n",
    "Por isso, podemos criar uma **matching arm** especial, chamado ***catch-all arm***. Esse braço irá cobrir todos os outros casos que não forem especificados. Note que esse braço irá cobrir todos os casos, portanto, ele deve ser posicionado como o **último braço**, caso contrário, os outros braços nunca serão acessados. Um exemplo é a função a seguir, que recebe um nome e retorna uma profissão associada."
   ]
  },
  {
   "cell_type": "code",
   "execution_count": 2,
   "metadata": {
    "vscode": {
     "languageId": "rust"
    }
   },
   "outputs": [
    {
     "name": "stdout",
     "output_type": "stream",
     "text": [
      "Alice is a: Programmer\n"
     ]
    },
    {
     "name": "stdout",
     "output_type": "stream",
     "text": [
      "Guilherme is a: I don't know the Guilherme profession.\n"
     ]
    }
   ],
   "source": [
    "fn get_occupation(name: &str) -> String {\n",
    "        match name {\n",
    "            \"Alice\" => \"Programmer\".to_string(),\n",
    "            \"Bob\" => \"Engineer\".to_string(),\n",
    "            any_other => format!(\"I don't know the {} profession.\", any_other)\n",
    "        }\n",
    "}\n",
    "\n",
    "let name = \"Alice\";\n",
    "println!(\"{name} is a: {}\", get_occupation(&name));\n",
    "\n",
    "let name = \"Guilherme\";\n",
    "println!(\"{name} is a: {}\", get_occupation(&name));\n"
   ]
  },
  {
   "cell_type": "markdown",
   "metadata": {},
   "source": [
    "Outra maneira de fazer isso, porém sem usar o valor no catch-all arm, é usar o `_` (underscore), que é um **placeholder** que ignora o valor. \n",
    "\n",
    "```rust\n",
    "    fn profession(name: &str) -> &str {\n",
    "        match name {\n",
    "            \"Alice\" => \"Programmer\",\n",
    "            \"Bob\" => \"Engineer\",\n",
    "            _ => \"Unknown\",\n",
    "        }\n",
    "    }\n",
    "```"
   ]
  },
  {
   "cell_type": "markdown",
   "metadata": {},
   "source": [
    "# Controle de fluxo com `if let` e `while let`\n",
    "\n",
    "Outra maneira de lidar com patterns é através da syntax `if let`. Essa estrututra é usada para fazer o match com um pattern enquanto ignora todos os outros.\n",
    "\n",
    "```rust\n",
    "    let some_value = Some(42);\n",
    "    mathc some_value {\n",
    "        Some(42) => println!(\"The value is 42\"),\n",
    "        _ => (),\n",
    "    }\n",
    "```\n",
    "\n",
    "Note que, o único caso que é interessante para nós é o `Some`, pois para qualquer outra caso, simplesmente não fazemos nada. No entanto, devido ao fato do `match` ser exaustivo, o compilador nos obriga a adicionar o braço `_ => ()`. Para evitar isso, podemos usar o `if let`.\n",
    "\n",
    "```rust\n",
    "    let some_value = Some(42);\n",
    "    if let Some(42) = some_value {\n",
    "        println!(\"The value is 42\");\n",
    "    }\n",
    "```\n",
    "\n",
    "O `if let` funciona exatamente como o primeiro braço do `match` acima, porém ele não é exaustivo, ou seja, não é necessário adicionar um braço `_ => ()`. O `if let` é uma forma mais concisa de lidar com um único caso de um `match`. Também é possível usar o `if let` com o `else`. Nesse caso, o `else` funcionaria exatamente da mesma maneira que o braço `_ => ()` do `match`.\n",
    "\n",
    "```rust\n",
    "    let some_value = Some(42);\n",
    "    if let Some(42) = some_value {\n",
    "        println!(\"The value is 42\");\n",
    "    } else {\n",
    "        println!(\"The value is not 42\");\n",
    "    }\n",
    "```\n",
    "\n",
    "O `while let` é uma estrutura similar ao `if let`, porém ele irá repetir o bloco de código enquanto o pattern corresponder. "
   ]
  },
  {
   "cell_type": "code",
   "execution_count": 4,
   "metadata": {
    "vscode": {
     "languageId": "rust"
    }
   },
   "outputs": [
    {
     "name": "stdout",
     "output_type": "stream",
     "text": [
      "5\n",
      "4\n",
      "3\n",
      "2\n",
      "1\n",
      "Fim do loop\n"
     ]
    }
   ],
   "source": [
    "let mut stack = vec![1, 2, 3, 4, 5];\n",
    "    while let Some(top) = stack.pop() {\n",
    "        println!(\"{}\", top);\n",
    "    }\n",
    "println!(\"Fim do loop.\");"
   ]
  }
 ],
 "metadata": {
  "kernelspec": {
   "display_name": "Rust",
   "language": "rust",
   "name": "rust"
  },
  "language_info": {
   "codemirror_mode": "rust",
   "file_extension": ".rs",
   "mimetype": "text/rust",
   "name": "Rust",
   "pygment_lexer": "rust",
   "version": ""
  }
 },
 "nbformat": 4,
 "nbformat_minor": 2
}
